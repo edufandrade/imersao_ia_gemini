{
  "nbformat": 4,
  "nbformat_minor": 0,
  "metadata": {
    "colab": {
      "provenance": [],
      "authorship_tag": "ABX9TyOxitekQf+7mRjJRAcO5uUn",
      "include_colab_link": true
    },
    "kernelspec": {
      "name": "python3",
      "display_name": "Python 3"
    },
    "language_info": {
      "name": "python"
    }
  },
  "cells": [
    {
      "cell_type": "markdown",
      "metadata": {
        "id": "view-in-github",
        "colab_type": "text"
      },
      "source": [
        "<a href=\"https://colab.research.google.com/github/edufandrade/imersao_ia_gemini/blob/main/aula_teste.ipynb\" target=\"_parent\"><img src=\"https://colab.research.google.com/assets/colab-badge.svg\" alt=\"Open In Colab\"/></a>"
      ]
    },
    {
      "cell_type": "code",
      "execution_count": null,
      "metadata": {
        "colab": {
          "base_uri": "https://localhost:8080/"
        },
        "id": "Uoq511M8W92n",
        "outputId": "b293b0e3-7aed-4e7c-bda4-77f01c3ead4a"
      },
      "outputs": [
        {
          "output_type": "stream",
          "name": "stdout",
          "text": [
            "Tamanho da palavra secreta: 3 letras , Dica : controlar e colaborar no desenvolvimento de código-fonte.\n",
            "Digite a palavra secreta:ide\n",
            "Errou... a palavra secreta é git\n"
          ]
        }
      ],
      "source": [
        "import requests\n",
        "import random\n",
        "\n",
        "url = 'https://raw.githubusercontent.com/guilhermeonrails/api-imersao-ia/main/words.json'\n",
        "resposta = requests.get(url) # atritui a resposta o conteúdo da url capturada pelo requests.get\n",
        "data = resposta.json() # data = variável resposta no formato json (usado para intercambiar pacotes de informações entre sistemas)\n",
        "len(data) # tamanho da variável data\n",
        "# data[4] quarto item da lista\n",
        "valor_secreto = random.choice(data) # valor secreto é a linha da lista que a função random.choice escolheu um valor aleatório da variável data ( a lista que peguei daquela url)\n",
        "palavra_secreta = valor_secreto['palavra'] #  pega valor aleatório da estrutura palavra\n",
        "dica = valor_secreto['dica'] # pega valor aleatório da estrutura dica\n",
        "print(f'Tamanho da palavra secreta: {len(palavra_secreta)} letras , Dica : {dica}') # f'escreve como de fosse string' coloca entre {} o que for variável\n",
        "# receber o palpite do usuário\n",
        "palpite = input('Digite a palavra secreta:')\n",
        "if (palpite == palavra_secreta):\n",
        "  print('Acertou')\n",
        "else:\n",
        "  print(f'Errou... a palavra secreta é {palavra_secreta}')\n"
      ]
    }
  ]
}