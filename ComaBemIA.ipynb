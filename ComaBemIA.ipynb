{
  "nbformat": 4,
  "nbformat_minor": 0,
  "metadata": {
    "colab": {
      "provenance": [],
      "toc_visible": true,
      "authorship_tag": "ABX9TyNC54TwTzo9n+OnhIJl4Qhp",
      "include_colab_link": true
    },
    "kernelspec": {
      "name": "python3",
      "display_name": "Python 3"
    },
    "language_info": {
      "name": "python"
    }
  },
  "cells": [
    {
      "cell_type": "markdown",
      "metadata": {
        "id": "view-in-github",
        "colab_type": "text"
      },
      "source": [
        "<a href=\"https://colab.research.google.com/github/edufandrade/imersao_ia_gemini/blob/main/ComaBemIA.ipynb\" target=\"_parent\"><img src=\"https://colab.research.google.com/assets/colab-badge.svg\" alt=\"Open In Colab\"/></a>"
      ]
    },
    {
      "cell_type": "markdown",
      "source": [
        "Instalação do SDK da Google"
      ],
      "metadata": {
        "id": "DDzOIYJ6rpKr"
      }
    },
    {
      "cell_type": "code",
      "source": [
        "!pip install -q -U google-generativeai"
      ],
      "metadata": {
        "id": "i6LdqZlNq0eN"
      },
      "execution_count": 1,
      "outputs": []
    },
    {
      "cell_type": "markdown",
      "source": [
        "Importação de módulo google.generative e userdata"
      ],
      "metadata": {
        "id": "xJYL0DxerEj8"
      }
    },
    {
      "cell_type": "code",
      "source": [
        "import google.generativeai as genai\n",
        "from google.colab import userdata"
      ],
      "metadata": {
        "id": "FJm3CD9NrCo-"
      },
      "execution_count": 10,
      "outputs": []
    },
    {
      "cell_type": "markdown",
      "source": [
        "Configuração da chave API e definição por meio do Secret"
      ],
      "metadata": {
        "id": "NocMmF-8r0k6"
      }
    },
    {
      "cell_type": "code",
      "source": [
        "api_key = userdata.get('SECRET_KEY')\n",
        "genai.configure(api_key=api_key)"
      ],
      "metadata": {
        "id": "yEt0_5Vkrzlu"
      },
      "execution_count": 11,
      "outputs": []
    },
    {
      "cell_type": "markdown",
      "source": [
        "Listando as versões disponíveis dos modelos do gemini"
      ],
      "metadata": {
        "id": "co5pSYVhs4Zd"
      }
    },
    {
      "cell_type": "code",
      "source": [
        "for modelos_ia in genai.list_models():\n",
        "  if 'generateContent' in modelos_ia.supported_generation_methods:\n",
        "    print(modelos_ia.name)"
      ],
      "metadata": {
        "id": "88DXMT4OskUo"
      },
      "execution_count": null,
      "outputs": []
    },
    {
      "cell_type": "markdown",
      "source": [
        "Definindo variável de configuração dos parâmetros temperature (diversidade e criatividade da ia) e candidate_count (quantidade de possíveis respostas)"
      ],
      "metadata": {
        "id": "dilnlXhytJ_X"
      }
    },
    {
      "cell_type": "code",
      "source": [
        "generation_config = {\n",
        "    'candidate_count': 1,\n",
        "    'temperature': 0,\n",
        "}"
      ],
      "metadata": {
        "id": "wHxEk5vctI1u"
      },
      "execution_count": 76,
      "outputs": []
    },
    {
      "cell_type": "markdown",
      "source": [
        "Definindo variável de configuração dos parâmetros safety_settings (exposição de conteúdo não *ético*)"
      ],
      "metadata": {
        "id": "68NUcMZXuVFB"
      }
    },
    {
      "cell_type": "code",
      "source": [
        "safety_settings = {\n",
        "    'HARASSMENT': 'BLOCK_NONE',\n",
        "    'HATE': 'BLOCK_NONE',\n",
        "    'SEXUAL': 'BLOCK_NONE',\n",
        "    'DANGEROUS': 'BLOCK_NONE',\n",
        "}"
      ],
      "metadata": {
        "id": "NdAwp7FtuUJB"
      },
      "execution_count": 77,
      "outputs": []
    },
    {
      "cell_type": "markdown",
      "source": [
        "Inicializando o modelo com as configurações definidas nas seções acima"
      ],
      "metadata": {
        "id": "o_UvjgwAu9KC"
      }
    },
    {
      "cell_type": "code",
      "source": [
        "model = genai.GenerativeModel(model_name='gemini-1.0-pro',\n",
        "                              generation_config=generation_config,\n",
        "                              safety_settings=safety_settings)"
      ],
      "metadata": {
        "id": "UqRWxUqou73K"
      },
      "execution_count": 78,
      "outputs": []
    },
    {
      "cell_type": "markdown",
      "source": [
        "Bem vindo e orientação inicial"
      ],
      "metadata": {
        "id": "slnsBTf_vVXA"
      }
    },
    {
      "cell_type": "code",
      "source": [
        "print('\\n\\nBem vindo a sua plataforma preferida de Plano Alimentar : ComaBemAI \\n\\n')\n",
        "print('Lembramos que nossos planos alimentares são apenas sugestões feitas com carinho para pessoas que não possuem problemas de saúde\\n')\n",
        "print('Lembre-se a importância de consultar um bom nutrólogo e um nutricionista !\\n')\n",
        "print('Vamos lá!\\n\\n')"
      ],
      "metadata": {
        "id": "y2-ktCBIvisK"
      },
      "execution_count": null,
      "outputs": []
    },
    {
      "cell_type": "markdown",
      "source": [
        "Capturando dados de entrada para configurar a formação da requisição (prompt) para a IA com um pouco de criatividade, usando como referência a unidade federativa do usuário"
      ],
      "metadata": {
        "id": "dk0x-s-dxkra"
      }
    },
    {
      "cell_type": "code",
      "source": [
        "nm_usuario = input('Como gostaria de ser chamado ?\\n\\n')"
      ],
      "metadata": {
        "id": "u6OqbBbsxpEL"
      },
      "execution_count": null,
      "outputs": []
    },
    {
      "cell_type": "markdown",
      "source": [
        "Capturando dado de peso, idade, altura e gênero biológico"
      ],
      "metadata": {
        "id": "XiyuGv0fAUhN"
      }
    },
    {
      "cell_type": "code",
      "source": [
        "peso_usuario = float(input(f'\\n{nm_usuario} , e qual seria o seu peso atual (Em kg. Ex.: 84) ?\\n\\n'))\n",
        "altura_usuario = float(input('\\nE sua altura (digite em metros. Ex.: 1.75)?\\n\\n'))\n",
        "genero_usuario = input('\\nPara calcular sua taxa metabólica basal precisamos saber seu gênero biológico (Digite M ou F):\\n\\n')\n",
        "idade_usuario = float(input(f'\\nQuantos anos você tem {nm_usuario} ?\\n\\n'))"
      ],
      "metadata": {
        "id": "nqHuSq7a0n2_"
      },
      "execution_count": null,
      "outputs": []
    },
    {
      "cell_type": "markdown",
      "source": [
        "Definindo multiplicador de atividade física baseado na pontuação abaixo"
      ],
      "metadata": {
        "id": "BKrw3G1rwjNt"
      }
    },
    {
      "cell_type": "code",
      "source": [
        "print('\\nAgora leia atentamente essa classificação:\\n')\n",
        "print('Sedentário (pouca ou nenhuma atividade) = 1.2 pontos')\n",
        "print('Levemente ativo (exercício leve 1-3 dias por semana) = 1.375 pontos')\n",
        "print('Moderadamente ativo (exercício moderado 3-5 dias por semana) = 1.55 pontos')\n",
        "print('Altamente ativo (exercício intenso 6-7 dias por semana) = 1.725')\n",
        "print('Extremamente ativo (exercício intenso e/ou trabalho físico pesado diariamente) = 1.9 pontos\\n')\n",
        "\n",
        "multiplicador_atividade_usuario = float(input('\\nCom base nas informações acima digite sua quantidade de pontos (Ex.: 1.55):\\n\\n'))"
      ],
      "metadata": {
        "id": "BbHXPQdywpY7"
      },
      "execution_count": null,
      "outputs": []
    },
    {
      "cell_type": "markdown",
      "source": [
        "Determinando cálculo de IMC (índice de massa corporal) e classificando."
      ],
      "metadata": {
        "id": "2nS4Qt4_ASxY"
      }
    },
    {
      "cell_type": "code",
      "source": [
        "imc_usuario = peso_usuario /(altura_usuario * altura_usuario)\n",
        "\n",
        "if imc_usuario < 18.5 :\n",
        "  classificacao_imc_usuario = \"parece que está abaixo do peso ideal\"\n",
        "elif imc_usuario >= 18.5 and imc_usuario <= 24.9 :\n",
        "  classificacao_imc_usuario = \"parece que está no peso ideal\"\n",
        "elif imc_usuario >= 25 and imc_usuario <= 29.9 :\n",
        "  classificacao_imc_usuario = \"parece que está acima do peso\"\n",
        "else:\n",
        "  classificacao_imc_usuario = \"parece que está com obesidade\""
      ],
      "metadata": {
        "id": "HGIEX2PR4CyK"
      },
      "execution_count": null,
      "outputs": []
    },
    {
      "cell_type": "markdown",
      "source": [
        "Calculando a TMB (taxa metabólica basal) com a fórmula de Harris Benedict, fator multiplicador de atividade física e GET (gasto energético total - TBM * fator multiplicador de atividade física). Definindo também a quantidade de fibras no plano."
      ],
      "metadata": {
        "id": "Oj39-xpMr2rt"
      }
    },
    {
      "cell_type": "code",
      "source": [
        "if genero_usuario == 'M': # masculino\n",
        "  tmb_usuario = 66.5 + (13.75 * peso_usuario) + (5.0 * altura_usuario * 100) - (6.75 * idade_usuario)\n",
        "  qtd_gramas_fibras_plano_usuario = 34\n",
        "else:\n",
        "  tmb_usuario = 655.1 + (9.563 * peso_usuario) + (1.85 * altura_usuario * 100) - (4.676 * idade_usuario)\n",
        "  qtd_gramas_fibras_plano_usuario = 25\n",
        "\n",
        "get_usuario = tmb_usuario * multiplicador_atividade_usuario"
      ],
      "metadata": {
        "id": "DOhjqN61sGCA"
      },
      "execution_count": 22,
      "outputs": []
    },
    {
      "cell_type": "markdown",
      "source": [
        "Imprime orientações conforme resultado do IMC e do GET"
      ],
      "metadata": {
        "id": "uCigBDkvApvd"
      }
    },
    {
      "cell_type": "code",
      "source": [
        "print(f'\\nPerfeito !!! De acordo com seu peso e sua altura, seu IMC (índice de massa corpórea) é de {imc_usuario:.2f} kg/m2')\n",
        "print(f'Sendo assim , {classificacao_imc_usuario} (ou é uma pessoa com muita massa muscular).\\n')\n",
        "print(f'Conforme sua idade, altura e gênero biológico, sua TMB (taxa metabólica basal) é de {tmb_usuario:.0f} kcal/dia\\n')\n",
        "print(f'Baseado na sua TMB e sua atividade física, seu GET (gasto energético total) é de {get_usuario:.0f} kcal/dia\\n')\n",
        "print('Vamos nos basear nessas informações para criar um plano alimentar adequado.')\n",
        "print('Mas calma, precisamos só de mais alguns detalhes')\n",
        "\n",
        "\n",
        "print('E lembre-se, isso é apenas uma análise superficial!')\n",
        "print('A melhor forma de fazer isso é se consultando com um bom nutrólogo e um nutricionista\\n')"
      ],
      "metadata": {
        "id": "EvpcvqlAApXr"
      },
      "execution_count": null,
      "outputs": []
    },
    {
      "cell_type": "markdown",
      "source": [
        "Capturando opção de plano alimentar hiper ou hipocalórico e armazenando na variável tp_plano_usuario"
      ],
      "metadata": {
        "id": "BtswgtNUA8iD"
      }
    },
    {
      "cell_type": "code",
      "source": [
        "print('Mas vamos lá, de uma forma geral. Com base nessa análise e de como se vê no espelho e se sente vestindo suas roupas:\\n')\n",
        "\n",
        "tp_plano_usuario = input('Gostaria de um plano alimentar para ganhar ou perder peso ? (Digite : ganhar ou perder)\\n\\n')"
      ],
      "metadata": {
        "id": "K-dJP-R__zb7"
      },
      "execution_count": null,
      "outputs": []
    },
    {
      "cell_type": "markdown",
      "source": [
        "Definindo a quantidade de kcal e configuração de macronutrientes (proteínas, carboidratos e lipídeos), do plano alimentar do usuário baseado no objetivo de plano alimentar (hipo ou hipercalórico) e no GET."
      ],
      "metadata": {
        "id": "a4CO4p2wglAw"
      }
    },
    {
      "cell_type": "code",
      "source": [
        "if tp_plano_usuario == 'ganhar':\n",
        "  qt_kcal_plano_usuario = get_usuario + 500\n",
        "  qtd_calorias_proteina = peso_usuario * 2.5 * 4\n",
        "  qtd_calorias_lipideos = 0.2 * qt_kcal_plano_usuario\n",
        "  qtd_calorias_carboidrato = qt_kcal_plano_usuario - qtd_calorias_lipideos - qtd_calorias_proteina\n",
        "else:\n",
        "  qt_kcal_plano_usuario = get_usuario - 750\n",
        "  qtd_calorias_proteina = peso_usuario * 2 * 4\n",
        "  qtd_calorias_carboidrato = peso_usuario * 1 * 4\n",
        "  qtd_calorias_lipideos = qt_kcal_plano_usuario - qtd_calorias_proteina - qtd_calorias_carboidrato"
      ],
      "metadata": {
        "id": "lU86oHdIBEvx"
      },
      "execution_count": 25,
      "outputs": []
    },
    {
      "cell_type": "markdown",
      "source": [
        "Exibindo a quantidade de calorias do plano alimentar para o usuário"
      ],
      "metadata": {
        "id": "3K8yg_3bhPGz"
      }
    },
    {
      "cell_type": "code",
      "source": [
        "print(f'Vamos elaborar um plano alimentar com cerca de {qt_kcal_plano_usuario:.0f} kcal/dia para você\\n')"
      ],
      "metadata": {
        "colab": {
          "base_uri": "https://localhost:8080/"
        },
        "id": "OJcTe0ZehOWL",
        "outputId": "1faeef80-200a-4733-da49-5cc77d4ef5eb"
      },
      "execution_count": 69,
      "outputs": [
        {
          "output_type": "stream",
          "name": "stdout",
          "text": [
            "Vamos elaborar um plano alimentar com cerca de 3984 kcal/dia para você\n",
            "\n"
          ]
        }
      ]
    },
    {
      "cell_type": "markdown",
      "source": [
        "Capturando variável de alimentos não aceitos e alimentos alergênicos"
      ],
      "metadata": {
        "id": "qB-OfUKQiyOR"
      }
    },
    {
      "cell_type": "code",
      "source": [
        "print('Mas antes precisamos saber algumas coisas sobre sua preferência alimentar ok ?!\\n')\n",
        "lista_alimentos_recusados_usuario = input('\\nEscreva quais alimentos você não gosta para que evitemos usar (Ex.: quiabo, jiló, bucho, berinjela)\\n\\n')\n",
        "lista_alimentos_alergenicos_usuario = input('\\nAgora nos diga quais alimentos você tem alergia (caso não tenha, deixe em branco):\\n\\n')"
      ],
      "metadata": {
        "id": "e3I-ZZXfi5zb"
      },
      "execution_count": null,
      "outputs": []
    },
    {
      "cell_type": "markdown",
      "source": [
        "Definindo quais refeições o usuário deseja de segunda a sexta-feira e no final de semana."
      ],
      "metadata": {
        "id": "uvvXmrbLnRjP"
      }
    },
    {
      "cell_type": "code",
      "source": [
        "print('Agora vamos organizar suas refeições (café da manhã, lanche, almoço, jantar) nos dias de semana e nos finais de semana.')\n",
        "print('Por exemplo, de segunda a sexta : café da manhã, lanche, almoço, lanche, jantar. Final de semana: café da manhã, almoço, lanche.')\n",
        "\n",
        "refeicoes_semana_usuario = input('\\nDigite as refeições que deseja entre segunda a sexta-feira. Ex..: café da manhã, lanche, almoço, lanche, jantar.\\n\\n')\n",
        "refeicoes_finaldesemana_usuario = input('\\nDigite as refeições que deseja no final de semana:\\n\\n')"
      ],
      "metadata": {
        "id": "kh6IL3ocneOT"
      },
      "execution_count": null,
      "outputs": []
    },
    {
      "cell_type": "markdown",
      "source": [
        "Elaboração do prompt para a IA"
      ],
      "metadata": {
        "id": "6WVy8yEDvE5A"
      }
    },
    {
      "cell_type": "code",
      "source": [
        "prompt = f'Elabore um plano alimentar que forneça {qt_kcal_plano_usuario:.0f} kcal/dia com as seguintes regras:\\n' + \\\n",
        "         f'- a soma das calorias das proteínas deve ser {qtd_calorias_proteina:.0f} kcal por dia, sendo que cada grama de proteína tem 4 kcal\\n' + \\\n",
        "         f'- a soma das calorias dos carboidratos deve ser {qtd_calorias_carboidrato:.0f} kcal por dia, sendo que cada grama de carboidrato tem 4 kcal\\n' + \\\n",
        "         f'- a soma das calorias dos lipideos deve ser {qtd_calorias_lipideos:.0f} kcal por dia, sendo que cada grama de lipideo tem 9 kcal\\n' + \\\n",
        "         f'- a soma das fibras deve ser {qtd_gramas_fibras_plano_usuario} gramas por dia\\n' + \\\n",
        "         f'- quero que use como fonte de informação somente a Tabela Brasileira de Composição de Alimentos (TBCA)\\n' + \\\n",
        "         f'- ítens sólidos devem ter como unidade de medida gramas e ítens líquidos em ml\\n' + \\\n",
        "         f'- se usar algum ítem que seja uma fruta ou frutas especifique qual é o nome da fruta\\n' + \\\n",
        "         f'- não deve conter ítem fruta caso não tenha o nome da fruta associado\\n' + \\\n",
        "         f'- se usar feijão ou arroz especifique o tipo de arroz e do feijão\\n' + \\\n",
        "         f'- não deve conter os ítens: {lista_alimentos_recusados_usuario} , {lista_alimentos_alergenicos_usuario}\\n' + \\\n",
        "         f'- não deve conter os ítens: pizza, refrigerante, sorvete, trail mix, frutas vermelhas, azeite, manteiga, ketchup\\n' + \\\n",
        "         f'- a divisão das refeições de segunda a sexta-feira devem ser estas: {refeicoes_semana_usuario}\\n' + \\\n",
        "         f'- a divisão das refeições de sábado a domingo devem ser estas: {refeicoes_finaldesemana_usuario}\\n' + \\\n",
        "         f'- para cada ítem do plano alimentar deve ser apresentada a quantidade de calorias, proteinas, carboidrato e lipideos\\n' + \\\n",
        "         f'- para cada refeição deve ser apresentada a soma exata das calorias dos seus alimentos\\n' + \\\n",
        "         f'- cada alimento do plano deve seguir este exemplo de formatação : nome do alimento (quantidade em gramas): quantidade de kcal, quantidade de gramas de proteína, quantidade de gramas de carboidrato, quantidade de gramas de lipídeos\\n'\n",
        "\n",
        "response = model.generate_content(prompt)\n",
        "\n",
        "print(f'\\n\\n\\nPlano Alimentar com aproximadamente {qt_kcal_plano_usuario:.0f} kcal/dia:')\n",
        "print(f'Proteína: {qtd_calorias_proteina:.0f} kcal por dia')\n",
        "print(f'Carboidrato: {qtd_calorias_carboidrato:.0f} kcal por dia')\n",
        "print(f'Lipídeos: {qtd_calorias_lipideos:.0f} kcal por dia')\n",
        "print(f'Fibras: {qtd_gramas_fibras_plano_usuario} gramas por dia\\n\\n\\n')\n",
        "\n",
        "print(response.text)\n",
        "\n"
      ],
      "metadata": {
        "id": "eU5I2EmJkzJI"
      },
      "execution_count": null,
      "outputs": []
    }
  ]
}